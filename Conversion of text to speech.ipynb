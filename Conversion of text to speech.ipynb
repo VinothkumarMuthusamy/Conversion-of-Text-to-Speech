{
  "nbformat": 4,
  "nbformat_minor": 0,
  "metadata": {
    "colab": {
      "provenance": []
    },
    "kernelspec": {
      "name": "python3",
      "display_name": "Python 3"
    },
    "language_info": {
      "name": "python"
    }
  },
  "cells": [
    {
      "cell_type": "code",
      "execution_count": null,
      "metadata": {
        "colab": {
          "base_uri": "https://localhost:8080/"
        },
        "id": "urVN-25kTHKt",
        "outputId": "ed950aea-3811-4e77-efc2-6fe079fc38ec"
      },
      "outputs": [
        {
          "output_type": "stream",
          "name": "stdout",
          "text": [
            "Collecting gTTs\n",
            "  Downloading gTTS-2.5.1-py3-none-any.whl (29 kB)\n",
            "Requirement already satisfied: requests<3,>=2.27 in /usr/local/lib/python3.10/dist-packages (from gTTs) (2.31.0)\n",
            "Requirement already satisfied: click<8.2,>=7.1 in /usr/local/lib/python3.10/dist-packages (from gTTs) (8.1.7)\n",
            "Requirement already satisfied: charset-normalizer<4,>=2 in /usr/local/lib/python3.10/dist-packages (from requests<3,>=2.27->gTTs) (3.3.2)\n",
            "Requirement already satisfied: idna<4,>=2.5 in /usr/local/lib/python3.10/dist-packages (from requests<3,>=2.27->gTTs) (3.6)\n",
            "Requirement already satisfied: urllib3<3,>=1.21.1 in /usr/local/lib/python3.10/dist-packages (from requests<3,>=2.27->gTTs) (2.0.7)\n",
            "Requirement already satisfied: certifi>=2017.4.17 in /usr/local/lib/python3.10/dist-packages (from requests<3,>=2.27->gTTs) (2024.2.2)\n",
            "Installing collected packages: gTTs\n",
            "Successfully installed gTTs-2.5.1\n"
          ]
        }
      ],
      "source": [
        "!pip install gTTs\n"
      ]
    },
    {
      "cell_type": "code",
      "source": [
        "from gtts import gTTS\n",
        "from IPython.display import Audio, display\n",
        "import os\n",
        "from pprint import pprint"
      ],
      "metadata": {
        "id": "pZW4rd3GTKrE"
      },
      "execution_count": null,
      "outputs": []
    },
    {
      "cell_type": "code",
      "source": [
        "!pip install playsound"
      ],
      "metadata": {
        "colab": {
          "base_uri": "https://localhost:8080/"
        },
        "id": "9UPwHZk9TQyp",
        "outputId": "8123a392-19e3-4dc9-8dce-92bd80d52413"
      },
      "execution_count": null,
      "outputs": [
        {
          "output_type": "stream",
          "name": "stdout",
          "text": [
            "Collecting playsound\n",
            "  Downloading playsound-1.3.0.tar.gz (7.7 kB)\n",
            "  Preparing metadata (setup.py) ... \u001b[?25l\u001b[?25hdone\n",
            "Building wheels for collected packages: playsound\n",
            "  Building wheel for playsound (setup.py) ... \u001b[?25l\u001b[?25hdone\n",
            "  Created wheel for playsound: filename=playsound-1.3.0-py3-none-any.whl size=7020 sha256=f512a06ed1c05d2717b66ff7554800d83656b546ee9c098b68ac3e7087bcf67e\n",
            "  Stored in directory: /root/.cache/pip/wheels/90/89/ed/2d643f4226fc8c7c9156fc28abd8051e2d2c0de37ae51ac45c\n",
            "Successfully built playsound\n",
            "Installing collected packages: playsound\n",
            "Successfully installed playsound-1.3.0\n"
          ]
        }
      ]
    },
    {
      "cell_type": "code",
      "source": [
        "text=\"Computer engineering is the intersection of computer science and electrical engineering.\""
      ],
      "metadata": {
        "id": "VKt9S-8GTVvM"
      },
      "execution_count": null,
      "outputs": []
    },
    {
      "cell_type": "code",
      "source": [
        "tts = gTTS(text)"
      ],
      "metadata": {
        "id": "jxYZztihTdZU"
      },
      "execution_count": null,
      "outputs": []
    },
    {
      "cell_type": "code",
      "source": [
        "tts.save(\"output.mp3\")\n",
        "tts.save(\"temp.mp3\")"
      ],
      "metadata": {
        "id": "iz1nvTeSThRH"
      },
      "execution_count": null,
      "outputs": []
    },
    {
      "cell_type": "code",
      "source": [
        "display(Audio(\"temp.mp3\"))\n",
        "transcribed_text = tts.text"
      ],
      "metadata": {
        "colab": {
          "base_uri": "https://localhost:8080/",
          "height": 75
        },
        "id": "zBfJdYXCTlAp",
        "outputId": "780c9be8-6a90-4008-dcb4-d3b53921d65c"
      },
      "execution_count": null,
      "outputs": [
        {
          "output_type": "display_data",
          "data": {
            "text/plain": [
              "<IPython.lib.display.Audio object>"
            ],
            "text/html": [
              "\n",
              "                <audio  controls=\"controls\" >\n",
              "                    <source src=\"data:audio/mpeg;base64,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\" type=\"audio/mpeg\" />\n",
              "                    Your browser does not support the audio element.\n",
              "                </audio>\n",
              "              "
            ]
          },
          "metadata": {}
        }
      ]
    },
    {
      "cell_type": "code",
      "source": [
        "def calculate_error_percentage(original, transcribed):\n",
        " original = original.lower()\n",
        " transcribed = transcribed.lower()\n",
        " error_count = sum(c1 != c2 for c1, c2 in zip(original, transcribed))\n",
        " total_chars = len(original)\n",
        " accuracy_percentage = ((total_chars - error_count) / total_chars) * 100 # Accuracy is (correct / total) * 100\n",
        " return accuracy_percentage"
      ],
      "metadata": {
        "id": "AXwrzhc2TrwQ"
      },
      "execution_count": null,
      "outputs": []
    },
    {
      "cell_type": "code",
      "source": [
        "accuracy_percentage = calculate_error_percentage(text, transcribed_text)\n",
        "print(f\"Original Text: {text}\")\n",
        "print(f\"Transcribed Text: {transcribed_text}\")\n",
        "print(f\"Accuracy: {accuracy_percentage:.2f}%\")"
      ],
      "metadata": {
        "id": "EXun8V5DT6HT",
        "outputId": "8f02b342-b2c0-4c31-c15a-9a49d83e456f",
        "colab": {
          "base_uri": "https://localhost:8080/"
        }
      },
      "execution_count": null,
      "outputs": [
        {
          "output_type": "stream",
          "name": "stdout",
          "text": [
            "Original Text: Computer engineering is the intersection of computer science and electrical engineering.\n",
            "Transcribed Text: Computer engineering is the intersection of computer science and electrical engineering.\n",
            "Accuracy: 100.00%\n"
          ]
        }
      ]
    }
  ]
}